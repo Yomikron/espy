{
 "cells": [
  {
   "cell_type": "markdown",
   "metadata": {
    "slideshow": {
     "slide_type": "slide"
    }
   },
   "source": [
    "# espy\n"
   ]
  },
  {
   "cell_type": "code",
   "execution_count": 10,
   "metadata": {
    "slideshow": {
     "slide_type": "-"
    }
   },
   "outputs": [
    {
     "name": "stdout",
     "output_type": "stream",
     "text": [
      "We simulate errors in python!\n"
     ]
    }
   ],
   "source": [
    "print(\"We simulate errors in python!\")"
   ]
  },
  {
   "cell_type": "markdown",
   "metadata": {
    "slideshow": {
     "slide_type": "slide"
    }
   },
   "source": [
    "# Noise simulation  \n",
    "### Creating random test data"
   ]
  },
  {
   "cell_type": "code",
   "execution_count": 11,
   "metadata": {
    "slideshow": {
     "slide_type": "-"
    }
   },
   "outputs": [
    {
     "name": "stdout",
     "output_type": "stream",
     "text": [
      "00111100000100001001\n"
     ]
    }
   ],
   "source": [
    "import numpy\n",
    "from espy.channelNoiseSimulator import channelNoiseSimulator\n",
    "\n",
    "#set seed\n",
    "numpy.random.seed(100)\n",
    "\n",
    "cns = channelNoiseSimulator()\n",
    "print(cns.createRandomBitsString(20))"
   ]
  },
  {
   "cell_type": "markdown",
   "metadata": {
    "slideshow": {
     "slide_type": "subslide"
    }
   },
   "source": [
    "# Noise simulation  \n",
    "### Simulate simple errors"
   ]
  },
  {
   "cell_type": "code",
   "execution_count": 12,
   "metadata": {
    "slideshow": {
     "slide_type": "-"
    }
   },
   "outputs": [
    {
     "name": "stdout",
     "output_type": "stream",
     "text": [
      "00111100000100001001\n",
      "00111100000100000000\n",
      "Differences found: 2\n",
      "00000000000000001001\n"
     ]
    }
   ],
   "source": [
    "import numpy\n",
    "from espy.channelNoiseSimulator import channelNoiseSimulator\n",
    "#seed\n",
    "numpy.random.seed(100)\n",
    "cns = channelNoiseSimulator()\n",
    "\n",
    "data = cns.createRandomBitsString(20)\n",
    "noisyData = cns.randomiseBitsString(data,0.1)\n",
    "\n",
    "print(data)\n",
    "print(noisyData)\n",
    "# highlight differences\n",
    "print(''.join(str(e) for e in cns.compareAndHighlightDifferences(data,noisyData)))"
   ]
  },
  {
   "cell_type": "markdown",
   "metadata": {
    "slideshow": {
     "slide_type": "subslide"
    }
   },
   "source": [
    "# Noise simulation  \n",
    "### Simulate burst errors"
   ]
  },
  {
   "cell_type": "code",
   "execution_count": 13,
   "metadata": {
    "slideshow": {
     "slide_type": "-"
    }
   },
   "outputs": [
    {
     "name": "stdout",
     "output_type": "stream",
     "text": [
      "0011110000010000100101000111001001111100111111110111001101011100100111000000101010011000111100110010\n",
      "0011110000010000100101000111001001111100111111110111001101011100100111000111010110011000111100110010\n",
      "Differences found: 7\n",
      "0000000000000000000000000000000000000000000000000000000000000000000000000111111100000000000000000000\n"
     ]
    }
   ],
   "source": [
    "import numpy\n",
    "from espy.channelNoiseSimulator import channelNoiseSimulator\n",
    "#seed\n",
    "numpy.random.seed(100)\n",
    "cns = channelNoiseSimulator()\n",
    "\n",
    "data = cns.createRandomBitsString(100)\n",
    "noisyData = cns.randomiseBitsBurstString(data,0.01,0.9,8)\n",
    "\n",
    "print(data)\n",
    "print(noisyData)\n",
    "\n",
    "# highlight differences\n",
    "print(''.join(str(e) for e in cns.compareAndHighlightDifferences(data,noisyData)))"
   ]
  },
  {
   "cell_type": "markdown",
   "metadata": {
    "slideshow": {
     "slide_type": "slide"
    }
   },
   "source": [
    "# Cyclic Redundancy Check"
   ]
  },
  {
   "cell_type": "code",
   "execution_count": 14,
   "metadata": {
    "slideshow": {
     "slide_type": "-"
    }
   },
   "outputs": [
    {
     "name": "stdout",
     "output_type": "stream",
     "text": [
      "101\n",
      "10100100101101\n"
     ]
    }
   ],
   "source": [
    "from espy.crc import CyclicRedundancyCheck\n",
    "\n",
    "crc32 = CyclicRedundancyCheck(\"1101\")\n",
    "\n",
    "msg = \"10100100101\"\n",
    "print(crc32.compute_crc(msg))\n",
    "msg_with_red = crc32.crc_encode(msg)\n",
    "print(msg_with_red)"
   ]
  },
  {
   "cell_type": "code",
   "execution_count": 15,
   "metadata": {
    "slideshow": {
     "slide_type": "-"
    }
   },
   "outputs": [
    {
     "name": "stdout",
     "output_type": "stream",
     "text": [
      "True\n"
     ]
    }
   ],
   "source": [
    "print(crc32.crc_check(msg_with_red))"
   ]
  },
  {
   "cell_type": "code",
   "execution_count": null,
   "metadata": {},
   "outputs": [],
   "source": []
  }
 ],
 "metadata": {
  "celltoolbar": "Slideshow",
  "kernelspec": {
   "display_name": "Python 3",
   "language": "python",
   "name": "python3"
  },
  "language_info": {
   "codemirror_mode": {
    "name": "ipython",
    "version": 3
   },
   "file_extension": ".py",
   "mimetype": "text/x-python",
   "name": "python",
   "nbconvert_exporter": "python",
   "pygments_lexer": "ipython3",
   "version": "3.6.8"
  }
 },
 "nbformat": 4,
 "nbformat_minor": 4
}
