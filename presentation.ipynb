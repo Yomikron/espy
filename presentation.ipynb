{
 "cells": [
  {
   "cell_type": "markdown",
   "metadata": {
    "slideshow": {
     "slide_type": "slide"
    }
   },
   "source": [
    "# espy\n"
   ]
  },
  {
   "cell_type": "code",
   "execution_count": 10,
   "metadata": {
    "slideshow": {
     "slide_type": "-"
    }
   },
   "outputs": [
    {
     "name": "stdout",
     "output_type": "stream",
     "text": [
      "We simulate errors in python!\n"
     ]
    }
   ],
   "source": [
    "print(\"We simulate errors in python!\")"
   ]
  },
  {
   "cell_type": "markdown",
   "metadata": {
    "slideshow": {
     "slide_type": "slide"
    }
   },
   "source": [
    "# Noise simulation  \n",
    "### Creating random test data"
   ]
  },
  {
   "cell_type": "code",
   "execution_count": 1,
   "metadata": {
    "slideshow": {
     "slide_type": "-"
    }
   },
   "outputs": [
    {
     "ename": "ImportError",
     "evalue": "No module named espy.channelNoiseSimulator",
     "output_type": "error",
     "traceback": [
      "\u001b[0;31m---------------------------------------------------------------------------\u001b[0m",
      "\u001b[0;31mImportError\u001b[0m                               Traceback (most recent call last)",
      "\u001b[0;32m<ipython-input-1-fabb8f075c34>\u001b[0m in \u001b[0;36m<module>\u001b[0;34m()\u001b[0m\n\u001b[1;32m      1\u001b[0m \u001b[0;32mimport\u001b[0m \u001b[0mnumpy\u001b[0m\u001b[0;34m\u001b[0m\u001b[0m\n\u001b[0;32m----> 2\u001b[0;31m \u001b[0;32mfrom\u001b[0m \u001b[0mespy\u001b[0m\u001b[0;34m.\u001b[0m\u001b[0mchannelNoiseSimulator\u001b[0m \u001b[0;32mimport\u001b[0m \u001b[0mchannel_noise_simulator\u001b[0m\u001b[0;34m\u001b[0m\u001b[0m\n\u001b[0m\u001b[1;32m      3\u001b[0m \u001b[0;34m\u001b[0m\u001b[0m\n\u001b[1;32m      4\u001b[0m \u001b[0;31m#set seed\u001b[0m\u001b[0;34m\u001b[0m\u001b[0;34m\u001b[0m\u001b[0m\n\u001b[1;32m      5\u001b[0m \u001b[0mnumpy\u001b[0m\u001b[0;34m.\u001b[0m\u001b[0mrandom\u001b[0m\u001b[0;34m.\u001b[0m\u001b[0mseed\u001b[0m\u001b[0;34m(\u001b[0m\u001b[0;36m100\u001b[0m\u001b[0;34m)\u001b[0m\u001b[0;34m\u001b[0m\u001b[0m\n",
      "\u001b[0;31mImportError\u001b[0m: No module named espy.channelNoiseSimulator"
     ]
    }
   ],
   "source": [
    "import numpy\n",
    "from espy.channelNoiseSimulator import channel_noise_simulator\n",
    "\n",
    "#set seed\n",
    "numpy.random.seed(100)\n",
    "\n",
    "cns = channel_noise_simulator()\n",
    "print(cns.create_random_bits_string(20))"
   ]
  },
  {
   "cell_type": "markdown",
   "metadata": {
    "slideshow": {
     "slide_type": "subslide"
    }
   },
   "source": [
    "# Noise simulation  \n",
    "### Simulate simple errors"
   ]
  },
  {
   "cell_type": "code",
   "execution_count": 12,
   "metadata": {
    "slideshow": {
     "slide_type": "-"
    }
   },
   "outputs": [
    {
     "name": "stdout",
     "output_type": "stream",
     "text": [
      "00111100000100001001\n",
      "00111100000100000000\n",
      "Differences found: 2\n",
      "00000000000000001001\n"
     ]
    }
   ],
   "source": [
    "import numpy\n",
    "from espy.channelNoiseSimulator import channel_noise_simulator\n",
    "#seed\n",
    "numpy.random.seed(100)\n",
    "cns = channel_noise_simulator()\n",
    "\n",
    "data = cns.create_random_bits_string(20)\n",
    "noisy_data = cns.randomise_bits_string(data,0.1)\n",
    "\n",
    "print(data)\n",
    "print(noisy_data)\n",
    "# highlight differences\n",
    "print(''.join(str(e) for e in cns.compare_and_highlight_differences(data,noisy_data)))"
   ]
  },
  {
   "cell_type": "markdown",
   "metadata": {
    "slideshow": {
     "slide_type": "subslide"
    }
   },
   "source": [
    "# Noise simulation  \n",
    "### Simulate burst errors"
   ]
  },
  {
   "cell_type": "code",
   "execution_count": 13,
   "metadata": {
    "slideshow": {
     "slide_type": "-"
    }
   },
   "outputs": [
    {
     "name": "stdout",
     "output_type": "stream",
     "text": [
      "0011110000010000100101000111001001111100111111110111001101011100100111000000101010011000111100110010\n",
      "0011110000010000100101000111001001111100111111110111001101011100100111000111010110011000111100110010\n",
      "Differences found: 7\n",
      "0000000000000000000000000000000000000000000000000000000000000000000000000111111100000000000000000000\n"
     ]
    }
   ],
   "source": [
    "import numpy\n",
    "from espy.channelNoiseSimulator import channel_noise_simulator\n",
    "#seed\n",
    "numpy.random.seed(100)\n",
    "cns = channel_noise_simulator()\n",
    "\n",
    "data = cns.randomise_bits_string(100)\n",
    "noisy_data = cns.randomise_bits_burst_string(data,0.01,0.9,8)\n",
    "\n",
    "print(data)\n",
    "print(noisy_data)\n",
    "\n",
    "# highlight differences\n",
    "print(''.join(str(e) for e in cns.compare_and_highlight_differences(data,noisy_data)))"
   ]
  },
  {
   "cell_type": "markdown",
   "metadata": {
    "slideshow": {
     "slide_type": "slide"
    }
   },
   "source": [
    "# Cyclic Redundancy Check"
   ]
  },
  {
   "cell_type": "code",
   "execution_count": 14,
   "metadata": {
    "slideshow": {
     "slide_type": "-"
    }
   },
   "outputs": [
    {
     "name": "stdout",
     "output_type": "stream",
     "text": [
      "101\n",
      "10100100101101\n"
     ]
    }
   ],
   "source": [
    "from espy.crc import CyclicRedundancyCheck\n",
    "\n",
    "crc32 = CyclicRedundancyCheck(\"1101\")\n",
    "\n",
    "msg = \"10100100101\"\n",
    "print(crc32.compute_crc(msg))\n",
    "msg_with_red = crc32.crc_encode(msg)\n",
    "print(msg_with_red)"
   ]
  },
  {
   "cell_type": "code",
   "execution_count": 15,
   "metadata": {
    "slideshow": {
     "slide_type": "-"
    }
   },
   "outputs": [
    {
     "name": "stdout",
     "output_type": "stream",
     "text": [
      "True\n"
     ]
    }
   ],
   "source": [
    "print(crc32.crc_check(msg_with_red))"
   ]
  },
  {
   "cell_type": "code",
   "execution_count": null,
   "metadata": {},
   "outputs": [],
   "source": []
  }
 ],
 "metadata": {
  "celltoolbar": "Slideshow",
  "kernelspec": {
   "display_name": "Python 2",
   "language": "python",
   "name": "python2"
  },
  "language_info": {
   "codemirror_mode": {
    "name": "ipython",
    "version": 2
   },
   "file_extension": ".py",
   "mimetype": "text/x-python",
   "name": "python",
   "nbconvert_exporter": "python",
   "pygments_lexer": "ipython2",
   "version": "2.7.17"
  }
 },
 "nbformat": 4,
 "nbformat_minor": 4
}
