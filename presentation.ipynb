{
 "cells": [
  {
   "cell_type": "markdown",
   "metadata": {
    "slideshow": {
     "slide_type": "slide"
    }
   },
   "source": [
    "# espy - error simulations in python\n"
   ]
  },
  {
   "cell_type": "code",
   "execution_count": 1,
   "metadata": {},
   "outputs": [
    {
     "name": "stdout",
     "output_type": "stream",
     "text": [
      "We simulate erorrs in python!\n"
     ]
    }
   ],
   "source": [
    "print(\"We simulate erorrs in python!\")"
   ]
  },
  {
   "cell_type": "markdown",
   "metadata": {
    "slideshow": {
     "slide_type": "slide"
    }
   },
   "source": [
    "# Project\n",
    "\n",
    " - Simulate bit transmission on  physical layer\n",
    " - Implement and understand FEC and BEC algorithms and CRC\n",
    " - Compare algorithms and combinations under different channel models"
   ]
  },
  {
   "cell_type": "markdown",
   "metadata": {
    "slideshow": {
     "slide_type": "slide"
    }
   },
   "source": [
    "# Goals\n",
    "\n",
    "- Understanding for physical layer and bit error handling\n",
    "- Learn how to do discrete event simulation in python\n",
    "- Have fun with python"
   ]
  },
  {
   "cell_type": "markdown",
   "metadata": {
    "slideshow": {
     "slide_type": "slide"
    }
   },
   "source": [
    "# Noise simulation  \n",
    "### Creating random test data"
   ]
  },
  {
   "cell_type": "code",
   "execution_count": 2,
   "metadata": {},
   "outputs": [
    {
     "name": "stdout",
     "output_type": "stream",
     "text": [
      "00111100000100001001\n"
     ]
    }
   ],
   "source": [
    "import numpy\n",
    "from espy.channelNoiseSimulator import channel_noise_simulator\n",
    "\n",
    "#set seed\n",
    "numpy.random.seed(100)\n",
    "\n",
    "cns = channel_noise_simulator()\n",
    "print(cns.create_random_bits_string(20))"
   ]
  },
  {
   "cell_type": "markdown",
   "metadata": {
    "slideshow": {
     "slide_type": "subslide"
    }
   },
   "source": [
    "# Noise simulation  \n",
    "### Simulate simple errors"
   ]
  },
  {
   "cell_type": "code",
   "execution_count": 3,
   "metadata": {
    "slideshow": {
     "slide_type": "-"
    }
   },
   "outputs": [
    {
     "name": "stdout",
     "output_type": "stream",
     "text": [
      "00111100000100001001\n",
      "00111100000100000000\n",
      "Differences found: 2\n",
      "00000000000000001001\n"
     ]
    }
   ],
   "source": [
    "import numpy\n",
    "from espy.channelNoiseSimulator import channel_noise_simulator\n",
    "#seed\n",
    "numpy.random.seed(100)\n",
    "cns = channel_noise_simulator()\n",
    "\n",
    "data = cns.create_random_bits_string(20)\n",
    "noisy_data = cns.randomise_bits_string(data,0.1)\n",
    "\n",
    "print(data)\n",
    "print(noisy_data)\n",
    "# highlight differences\n",
    "print(''.join(str(e) for e in cns.compare_and_highlight_differences(data,noisy_data)))"
   ]
  },
  {
   "cell_type": "markdown",
   "metadata": {
    "slideshow": {
     "slide_type": "subslide"
    }
   },
   "source": [
    "# Noise simulation  \n",
    "### Simulate burst errors"
   ]
  },
  {
   "cell_type": "code",
   "execution_count": 4,
   "metadata": {},
   "outputs": [
    {
     "name": "stdout",
     "output_type": "stream",
     "text": [
      "0011110000010000100101000111001001111100111111110111001101011100100111000000101010011000111100110010\n",
      "0011110000010000100101000111001001111100111111110111001101011100100111000111010110011000111100110010\n",
      "Differences found: 7\n",
      "0000000000000000000000000000000000000000000000000000000000000000000000000111111100000000000000000000\n"
     ]
    }
   ],
   "source": [
    "import numpy\n",
    "from espy.channelNoiseSimulator import channel_noise_simulator\n",
    "#seed\n",
    "numpy.random.seed(100)\n",
    "cns = channel_noise_simulator()\n",
    "\n",
    "data = cns.create_random_bits_string(100)\n",
    "noisy_data = cns.randomise_bits_burst_string(data,0.01,0.9,8)\n",
    "\n",
    "print(data)\n",
    "print(noisy_data)\n",
    "\n",
    "# highlight differences\n",
    "print(''.join(str(e) for e in cns.compare_and_highlight_differences(data,noisy_data)))"
   ]
  },
  {
   "cell_type": "markdown",
   "metadata": {
    "slideshow": {
     "slide_type": "slide"
    }
   },
   "source": [
    "# Cyclic Redundancy Check"
   ]
  },
  {
   "cell_type": "code",
   "execution_count": 31,
   "metadata": {},
   "outputs": [
    {
     "name": "stdout",
     "output_type": "stream",
     "text": [
      "01011001011010111001\n",
      "01011001011010111001111\n",
      "00111000001001101100111\n",
      "Differences found: 9\n",
      "01100001010011010101000\n"
     ]
    }
   ],
   "source": [
    "from espy.crc import CyclicRedundancyCheck\n",
    "\n",
    "crc3 = CyclicRedundancyCheck(\"1101\")\n",
    "cns = channel_noise_simulator()\n",
    "msg = cns.create_random_bits_string(20)\n",
    "\n",
    "msg_with_crc = crc3.crc_encode(msg)\n",
    "msg_with_crc_noisy = cns.randomise_bits_string(msg_with_crc, 0.3)\n",
    "\n",
    "print(msg)\n",
    "print(msg_with_crc)\n",
    "print(msg_with_crc_noisy)\n",
    "print(''.join(str(e) for e in cns.compare_and_highlight_differences(msg_with_crc, msg_with_crc_noisy)))"
   ]
  },
  {
   "cell_type": "code",
   "execution_count": 32,
   "metadata": {},
   "outputs": [
    {
     "name": "stdout",
     "output_type": "stream",
     "text": [
      "False\n"
     ]
    }
   ],
   "source": [
    "print(crc3.crc_check(msg_with_crc_noisy))"
   ]
  },
  {
   "cell_type": "markdown",
   "metadata": {
    "slideshow": {
     "slide_type": "slide"
    }
   },
   "source": [
    "# Block Codes"
   ]
  },
  {
   "cell_type": "code",
   "execution_count": 7,
   "metadata": {},
   "outputs": [
    {
     "name": "stdout",
     "output_type": "stream",
     "text": [
      "[ True  True  True  True  True  True False]\n",
      "[ True False False False]\n"
     ]
    }
   ],
   "source": [
    "from espy.block_code import *\n",
    "import numpy as np\n",
    "\n",
    "generator = np.array([[1, 0, 0, 0, 1, 1, 0],\n",
    "                      [0, 1, 0, 0, 1, 0, 0],\n",
    "                      [0, 0, 1, 0, 0, 1, 1],\n",
    "                      [0, 0, 0, 1, 0, 0, 0]])\n",
    "\n",
    "# init systematic block code with generator matrix\n",
    "systematic_code = SystematicCode(generator)\n",
    "\n",
    "# check encode\n",
    "message = np.array([1, 0, 0, 1])\n",
    "codeword = systematic_code.encode(message)\n",
    "print(codeword == [1, 0, 0, 1, 1, 1, 1])\n",
    "\n",
    "# check decode\n",
    "decoded_message = systematic_code.decode(codeword)\n",
    "print(decoded_message == message)\n",
    "\n"
   ]
  },
  {
   "cell_type": "code",
   "execution_count": 8,
   "metadata": {
    "slideshow": {
     "slide_type": "slide"
    }
   },
   "outputs": [
    {
     "name": "stdout",
     "output_type": "stream",
     "text": [
      "[[ True  True  True  True  True  True  True]\n",
      " [ True  True  True  True  True  True  True]\n",
      " [ True  True  True  True  True  True  True]\n",
      " [ True  True  True  True  True  True  True]\n",
      " [ True  True  True  True  True  True  True]\n",
      " [ True  True  True  True  True  True  True]\n",
      " [ True  True  True  True  True  True  True]\n",
      " [ True  True  True  True  True  True  True]\n",
      " [ True  True  True  True  True  True  True]\n",
      " [ True  True  True  True  True  True  True]\n",
      " [ True  True  True  True  True  True  True]\n",
      " [ True  True  True  True  True  True  True]\n",
      " [ True  True  True  True  True  True  True]\n",
      " [ True  True  True  True  True  True  True]\n",
      " [ True  True  True  True  True  True  True]\n",
      " [ True  True  True  True  True  True  True]]\n",
      "True\n",
      "True\n"
     ]
    }
   ],
   "source": [
    "from espy.block_code import *\n",
    "import numpy as np\n",
    "\n",
    "# init systematic block code with generator matrix\n",
    "systematic_code = SystematicCode(generator)\n",
    "\n",
    "# check code word table\n",
    "codeword_table = systematic_code.codeword_table()\n",
    "print(codeword_table == [[0, 0, 0, 0, 0, 0, 0],\n",
    "                          [1, 0, 0, 0, 1, 1, 0],\n",
    "                          [0, 1, 0, 0, 1, 0, 0],\n",
    "                          [1, 1, 0, 0, 0, 1, 0],\n",
    "                          [0, 0, 1, 0, 0, 1, 1],\n",
    "                          [1, 0, 1, 0, 1, 0, 1],\n",
    "                          [0, 1, 1, 0, 1, 1, 1],\n",
    "                          [1, 1, 1, 0, 0, 0, 1],\n",
    "                          [0, 0, 0, 1, 0, 0, 0],\n",
    "                          [1, 0, 0, 1, 1, 1, 0],\n",
    "                          [0, 1, 0, 1, 1, 0, 0],\n",
    "                          [1, 1, 0, 1, 0, 1, 0],\n",
    "                          [0, 0, 1, 1, 0, 1, 1],\n",
    "                          [1, 0, 1, 1, 1, 0, 1],\n",
    "                          [0, 1, 1, 1, 1, 1, 1],\n",
    "                          [1, 1, 1, 1, 0, 0, 1]])\n",
    "\n",
    "# check validate\n",
    "print(systematic_code.validate(codeword))\n",
    "print(not systematic_code.validate([1, 1, 1, 1, 0, 0, 0]))"
   ]
  },
  {
   "cell_type": "markdown",
   "metadata": {
    "slideshow": {
     "slide_type": "slide"
    }
   },
   "source": [
    "# ARQ Protocol Simulation"
   ]
  },
  {
   "cell_type": "code",
   "execution_count": 9,
   "metadata": {},
   "outputs": [
    {
     "name": "stderr",
     "output_type": "stream",
     "text": [
      "[INFO   ]     root: Simulation starting\n",
      "[INFO   ] Client 0: Send message to 2: Hello World!\n",
      "[INFO   ] Client 2: Received message from 0: Hello World!\n",
      "[INFO   ] Client 2: Send message to 0: ACK\n",
      "[INFO   ] Client 0: Received message from 2: ACK\n",
      "[INFO   ] Client 1: Send message to 0: Hello World!\n",
      "[INFO   ] Client 0: Received message from 1: Hello World!\n",
      "[INFO   ] Client 0: Send message to 1: ACK\n",
      "[INFO   ] Client 1: Received message from 0: ACK\n",
      "[INFO   ] Client 2: Send message to 0: Hello World!\n",
      "[INFO   ] Client 0: Received message from 2: Hello World!\n",
      "[INFO   ] Client 0: Send message to 2: ACK\n",
      "[INFO   ] Client 2: Received message from 0: ACK\n",
      "[INFO   ]     root: Simulation finished\n"
     ]
    }
   ],
   "source": [
    "import simpy, logging\n",
    "from espy.simulation.client import Client\n",
    "from espy.simulation.router import Router\n",
    "\n",
    "NUM_CLIENTS = 3\n",
    "SIM_TOTAL_DURATION = 1000\n",
    "ROUTER_DROP_PROB = 0.3\n",
    "SPEED = 0.2\n",
    "LOG_LEVEL = logging.INFO\n",
    "\n",
    "def init_clients():\n",
    "    clients = []\n",
    "    for i in range(NUM_CLIENTS):\n",
    "        clients.append(Client(env, i, router, NUM_CLIENTS))\n",
    "    return clients\n",
    "\n",
    "if __name__ == \"__main__\":\n",
    "    logging.basicConfig(format='[%(levelname)-7s] %(name)8s: %(message)s', level=LOG_LEVEL)\n",
    "\n",
    "    # init simpy and network\n",
    "    env = simpy.Environment()\n",
    "    router = Router(env, ROUTER_DROP_PROB, SPEED)\n",
    "    clients = init_clients()\n",
    "    router.store_clients(clients)\n",
    "\n",
    "    logging.info(\"Simulation starting\")\n",
    "    env.run(until=SIM_TOTAL_DURATION)\n",
    "    logging.info(\"Simulation finished\")"
   ]
  },
  {
   "cell_type": "code",
   "execution_count": null,
   "metadata": {},
   "outputs": [],
   "source": []
  }
 ],
 "metadata": {
  "celltoolbar": "Slideshow",
  "kernelspec": {
   "display_name": "Python 3",
   "language": "python",
   "name": "python3"
  },
  "language_info": {
   "codemirror_mode": {
    "name": "ipython",
    "version": 3
   },
   "file_extension": ".py",
   "mimetype": "text/x-python",
   "name": "python",
   "nbconvert_exporter": "python",
   "pygments_lexer": "ipython3",
   "version": "3.6.8"
  },
  "rise": {
   "scroll": true
  }
 },
 "nbformat": 4,
 "nbformat_minor": 4
}
