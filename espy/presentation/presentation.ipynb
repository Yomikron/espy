{
 "cells": [
  {
   "cell_type": "markdown",
   "metadata": {
    "slideshow": {
     "slide_type": "slide"
    }
   },
   "source": [
    "# espy - error simulations in python\n"
   ]
  },
  {
   "cell_type": "code",
   "execution_count": 2,
   "metadata": {},
   "outputs": [
    {
     "name": "stdout",
     "output_type": "stream",
     "text": [
      "We simulate erorrs in python!\n"
     ]
    }
   ],
   "source": [
    "print(\"We simulate erorrs in python!\")"
   ]
  },
  {
   "cell_type": "markdown",
   "metadata": {
    "slideshow": {
     "slide_type": "slide"
    }
   },
   "source": [
    "# Project\n",
    "\n",
    " - Simulate bit transmission on  physical layer\n",
    " - Implement and understand FEC and BEC algorithms and CRC\n",
    " - Compare algorithms and combinations under different channel models"
   ]
  },
  {
   "cell_type": "markdown",
   "metadata": {
    "slideshow": {
     "slide_type": "slide"
    }
   },
   "source": [
    "# Goals\n",
    "\n",
    "- Understanding for physical layer and bit error handling\n",
    "- Learn how to do discrete event simulation in python\n",
    "- Have fun with python"
   ]
  },
  {
   "cell_type": "markdown",
   "metadata": {
    "slideshow": {
     "slide_type": "slide"
    }
   },
   "source": [
    "# Noise simulation  \n",
    "### Creating random test data"
   ]
  },
  {
   "cell_type": "code",
   "execution_count": 3,
   "metadata": {},
   "outputs": [
    {
     "name": "stdout",
     "output_type": "stream",
     "text": [
      "00111100000100001001\n"
     ]
    }
   ],
   "source": [
    "import numpy\n",
    "from espy.algorithms.channel_noise_simulator import channel_noise_simulator\n",
    "\n",
    "#set seed\n",
    "numpy.random.seed(100)\n",
    "\n",
    "cns = channel_noise_simulator()\n",
    "print(cns.create_random_bits_string(20))"
   ]
  },
  {
   "cell_type": "markdown",
   "metadata": {
    "slideshow": {
     "slide_type": "subslide"
    }
   },
   "source": [
    "# Noise simulation  \n",
    "### Simulate simple errors"
   ]
  },
  {
   "cell_type": "code",
   "execution_count": 4,
   "metadata": {
    "slideshow": {
     "slide_type": "-"
    }
   },
   "outputs": [
    {
     "name": "stdout",
     "output_type": "stream",
     "text": [
      "00111100000100001001\n",
      "00111100000100000000\n",
      "Differences found: 2\n",
      "00000000000000001001\n"
     ]
    }
   ],
   "source": [
    "import numpy\n",
    "from espy.algorithms.channel_noise_simulator import channel_noise_simulator\n",
    "#seed\n",
    "numpy.random.seed(100)\n",
    "cns = channel_noise_simulator()\n",
    "\n",
    "data = cns.create_random_bits_string(20)\n",
    "noisy_data = cns.randomise_bits_string(data,0.1)\n",
    "\n",
    "print(data)\n",
    "print(noisy_data)\n",
    "# highlight differences\n",
    "print(''.join(str(e) for e in cns.compare_and_highlight_differences(data,noisy_data)))"
   ]
  },
  {
   "cell_type": "markdown",
   "metadata": {
    "slideshow": {
     "slide_type": "subslide"
    }
   },
   "source": [
    "# Noise simulation  \n",
    "### Simulate burst errors"
   ]
  },
  {
   "cell_type": "code",
   "execution_count": 11,
   "metadata": {},
   "outputs": [
    {
     "name": "stdout",
     "output_type": "stream",
     "text": [
      "0100010001000000000111101010001101100110110101100011111100000101010111100101001001001101101101000100\n",
      "0111101110111111111000010101110010011001001010000011111100000101010111100101001001001101101101000000\n",
      "Differences found: 46\n",
      "0011111111111111111111111111111111111111111111100000000000000000000000000000000000000000000000000100\n"
     ]
    }
   ],
   "source": [
    "import numpy\n",
    "from espy.algorithms.channel_noise_simulator import channel_noise_simulator\n",
    "\n",
    "numpy.random.seed(31)\n",
    "cns = channel_noise_simulator()\n",
    "\n",
    "data = cns.create_random_bits_string(100)\n",
    "noisy_data = cns.randomise_bits_burst_string(data,0.01,0.9)\n",
    "\n",
    "print(data)\n",
    "print(noisy_data)\n",
    "\n",
    "# highlight differences\n",
    "print(''.join(str(e) for e in cns.compare_and_highlight_differences(data,noisy_data)))"
   ]
  },
  {
   "cell_type": "code",
   "execution_count": 24,
   "metadata": {},
   "outputs": [
    {
     "name": "stdout",
     "output_type": "stream",
     "text": [
      "0.15966075000000002\n",
      "0.1530115\n"
     ]
    }
   ],
   "source": [
    "import numpy\n",
    "from espy.algorithms.channel_noise_simulator import channel_noise_simulator\n",
    "numpy.random.seed(42)\n",
    "\n",
    "cns = channel_noise_simulator()\n",
    "example_data = \"\"\n",
    "sample_size = 40000\n",
    "for i in range(sample_size):\n",
    "    example_data += \"0\"\n",
    "\n",
    "EDF = 2 #Error density multiplier higher value means smaler but more errors\n",
    "x1 = 0\n",
    "x2 = 0\n",
    "x3 = 0\n",
    "count = 100\n",
    "\n",
    "enter_error_rate=0.01;#chance to start bursting\n",
    "leave_error_rate=0.05;#chance to stop bursting\n",
    "\n",
    "for i in range(count):\n",
    "    error_burst1=cns.randomise_bits_burst_string(example_data, enter_error_rate      ,1-(leave_error_rate))\n",
    "    error_burst2=cns.randomise_bits_burst_string(example_data, enter_error_rate*EDF  ,1-(leave_error_rate*EDF))\n",
    "    \n",
    "    x1+=error_burst1.count('1')\n",
    "    x2+=error_burst2.count('1')\n",
    "\n",
    "print(x1/count/sample_size)\n",
    "print(x2/count/sample_size)"
   ]
  },
  {
   "cell_type": "markdown",
   "metadata": {
    "slideshow": {
     "slide_type": "slide"
    }
   },
   "source": [
    "# Cyclic Redundancy Check\n",
    "\n",
    " - Interpret the message as a polynomial $M(x)$\n",
    " - Choose an irreducible polylomial $C(x)$ with the degree $n$\n",
    " - Compute modulus $R(x) = M(x)\\cdot x^n \\mod C(x)$\n",
    " - Send the message and $R$\n",
    " - Check if the received messages modulus is equal to $R$"
   ]
  },
  {
   "cell_type": "markdown",
   "metadata": {
    "slideshow": {
     "slide_type": "slide"
    }
   },
   "source": [
    "# Cyclic Redundancy Check"
   ]
  },
  {
   "cell_type": "code",
   "execution_count": 9,
   "metadata": {
    "slideshow": {
     "slide_type": "-"
    }
   },
   "outputs": [
    {
     "name": "stdout",
     "output_type": "stream",
     "text": [
      "10001101101010011010\n",
      "10001101101010011010101\n",
      "10001101101010011010101\n",
      "Differences found: 0\n",
      "00000000000000000000000\n"
     ]
    }
   ],
   "source": [
    "from espy.crc import CyclicRedundancyCheck\n",
    "\n",
    "crc3 = CyclicRedundancyCheck(\"1101\")\n",
    "cns = channel_noise_simulator()\n",
    "msg = cns.create_random_bits_string(20)\n",
    "\n",
    "msg_with_crc = crc3.crc_encode(msg)\n",
    "msg_with_crc_noisy = cns.randomise_bits_string(msg_with_crc, 0.0)\n",
    "\n",
    "print(msg)\n",
    "print(msg_with_crc)\n",
    "print(msg_with_crc_noisy)\n",
    "print(''.join(str(e) for e in cns.compare_and_highlight_differences(msg_with_crc, msg_with_crc_noisy)))"
   ]
  },
  {
   "cell_type": "code",
   "execution_count": 10,
   "metadata": {},
   "outputs": [
    {
     "name": "stdout",
     "output_type": "stream",
     "text": [
      "True\n"
     ]
    }
   ],
   "source": [
    "print(crc3.crc_check(msg_with_crc_noisy))"
   ]
  },
  {
   "cell_type": "markdown",
   "metadata": {
    "slideshow": {
     "slide_type": "slide"
    }
   },
   "source": [
    "# Block Codes"
   ]
  },
  {
   "cell_type": "code",
   "execution_count": 11,
   "metadata": {},
   "outputs": [
    {
     "name": "stdout",
     "output_type": "stream",
     "text": [
      "[ True  True  True  True  True  True False]\n",
      "[ True False False False]\n"
     ]
    }
   ],
   "source": [
    "from espy.block_code import *\n",
    "import numpy as np\n",
    "\n",
    "generator = np.array([[1, 0, 0, 0, 1, 1, 0],\n",
    "                      [0, 1, 0, 0, 1, 0, 0],\n",
    "                      [0, 0, 1, 0, 0, 1, 1],\n",
    "                      [0, 0, 0, 1, 0, 0, 0]])\n",
    "\n",
    "# init systematic block code with generator matrix\n",
    "systematic_code = SystematicCode(generator)\n",
    "\n",
    "# check encode\n",
    "message = np.array([1, 0, 0, 1])\n",
    "codeword = systematic_code.encode(message)\n",
    "print(codeword == [1, 0, 0, 1, 1, 1, 1])\n",
    "\n",
    "# check decode\n",
    "decoded_message = systematic_code.decode(codeword)\n",
    "print(decoded_message == message)\n",
    "\n"
   ]
  },
  {
   "cell_type": "code",
   "execution_count": 12,
   "metadata": {
    "slideshow": {
     "slide_type": "slide"
    }
   },
   "outputs": [
    {
     "name": "stdout",
     "output_type": "stream",
     "text": [
      "[[0 0 0 0 0 0 0]\n",
      " [1 0 0 0 1 1 0]\n",
      " [0 1 0 0 1 0 0]\n",
      " [1 1 0 0 0 1 0]\n",
      " [0 0 1 0 0 1 1]\n",
      " [1 0 1 0 1 0 1]\n",
      " [0 1 1 0 1 1 1]\n",
      " [1 1 1 0 0 0 1]\n",
      " [0 0 0 1 0 0 0]\n",
      " [1 0 0 1 1 1 0]\n",
      " [0 1 0 1 1 0 0]\n",
      " [1 1 0 1 0 1 0]\n",
      " [0 0 1 1 0 1 1]\n",
      " [1 0 1 1 1 0 1]\n",
      " [0 1 1 1 1 1 1]\n",
      " [1 1 1 1 0 0 1]]\n",
      "True\n",
      "True\n"
     ]
    }
   ],
   "source": [
    "from espy.block_code import *\n",
    "import numpy as np\n",
    "\n",
    "# init systematic block code with generator matrix\n",
    "systematic_code = SystematicCode(generator)\n",
    "# check code word table\n",
    "codeword_table = systematic_code.codeword_table()\n",
    "print(codeword_table)\n",
    "# check validate\n",
    "print(systematic_code.validate(codeword))\n",
    "print(not systematic_code.validate([1, 1, 1, 1, 0, 0, 0]))"
   ]
  },
  {
   "cell_type": "markdown",
   "metadata": {
    "slideshow": {
     "slide_type": "slide"
    }
   },
   "source": [
    "# ARQ Protocol Simulation"
   ]
  },
  {
   "cell_type": "code",
   "execution_count": 13,
   "metadata": {},
   "outputs": [],
   "source": [
    "import simpy, logging\n",
    "from espy.simulation.client import Client\n",
    "from espy.simulation.router import Router\n",
    "\n",
    "NUM_CLIENTS = 3\n",
    "SIM_TOTAL_DURATION = 1000\n",
    "ROUTER_DROP_PROB = 0.3\n",
    "SPEED = 0.2\n",
    "LOG_LEVEL = logging.INFO\n",
    "\n",
    "def init_clients():\n",
    "    clients = []\n",
    "    for i in range(NUM_CLIENTS):\n",
    "        clients.append(Client(env, i, router, NUM_CLIENTS))\n",
    "    return clients\n",
    "\n",
    "\n",
    "logging.basicConfig(format='[%(levelname)-7s] %(name)8s: %(message)s', level=LOG_LEVEL)\n",
    "\n",
    "# init simpy and network\n",
    "env = simpy.Environment()\n",
    "router = Router(env, ROUTER_DROP_PROB, SPEED)\n",
    "clients = init_clients()\n",
    "router.store_clients(clients)"
   ]
  },
  {
   "cell_type": "code",
   "execution_count": 14,
   "metadata": {
    "slideshow": {
     "slide_type": "slide"
    }
   },
   "outputs": [
    {
     "name": "stderr",
     "output_type": "stream",
     "text": [
      "[INFO   ]     root: Simulation starting\n",
      "[INFO   ] Client 0: Send message to 2: Hello World!\n",
      "[WARNING]   Router: Dropped packet from 0 to 2: Hello World!\n",
      "[INFO   ] Client 1: Send message to 0: Hello World!\n",
      "[WARNING]   Router: Dropped packet from 1 to 0: Hello World!\n",
      "[INFO   ] Client 2: Send message to 1: Hello World!\n",
      "[INFO   ] Client 1: Received message from 2: Hello World!\n",
      "[INFO   ] Client 1: Send message to 2: ACK\n",
      "[WARNING]   Router: Dropped packet from 1 to 2: ACK\n",
      "[WARNING] Client 0: Did not receive ACK. Resending...\n",
      "[INFO   ] Client 0: Send message to 2: Hello World!\n",
      "[WARNING]   Router: Dropped packet from 0 to 2: Hello World!\n",
      "[WARNING] Client 1: Did not receive ACK. Resending...\n",
      "[INFO   ] Client 1: Send message to 0: Hello World!\n",
      "[INFO   ] Client 0: Received message from 1: Hello World!\n",
      "[INFO   ] Client 0: Send message to 1: ACK\n",
      "[INFO   ] Client 1: Received message from 0: ACK\n",
      "[WARNING] Client 2: Did not receive ACK. Resending...\n",
      "[INFO   ] Client 2: Send message to 1: Hello World!\n",
      "[WARNING]   Router: Dropped packet from 2 to 1: Hello World!\n",
      "[WARNING] Client 0: Did not receive ACK. Resending...\n",
      "[INFO   ] Client 0: Send message to 2: Hello World!\n",
      "[INFO   ] Client 2: Received message from 0: Hello World!\n",
      "[INFO   ] Client 2: Send message to 0: ACK\n",
      "[INFO   ] Client 0: Received message from 2: ACK\n",
      "[WARNING] Client 2: Did not receive ACK. Resending...\n",
      "[INFO   ] Client 2: Send message to 1: Hello World!\n",
      "[INFO   ] Client 1: Received message from 2: Hello World!\n",
      "[INFO   ] Client 1: Send message to 2: ACK\n",
      "[WARNING]   Router: Dropped packet from 1 to 2: ACK\n",
      "[WARNING] Client 2: Did not receive ACK. Resending...\n",
      "[INFO   ] Client 2: Send message to 1: Hello World!\n",
      "[INFO   ] Client 1: Received message from 2: Hello World!\n",
      "[INFO   ] Client 1: Send message to 2: ACK\n",
      "[INFO   ] Client 2: Received message from 1: ACK\n",
      "[INFO   ]     root: Simulation finished\n"
     ]
    }
   ],
   "source": [
    "logging.info(\"Simulation starting\")\n",
    "env.run(until=SIM_TOTAL_DURATION)\n",
    "logging.info(\"Simulation finished\")"
   ]
  },
  {
   "cell_type": "markdown",
   "metadata": {
    "slideshow": {
     "slide_type": "subslide"
    }
   },
   "source": [
    "[INFO   ]     root: Simulation starting  \n",
    "[INFO   ] Client 0: Send message to 1: Hello World!  \n",
    "[INFO   ] Client 1: Received message from 0: Hello World!  \n",
    "[INFO   ] Client 1: Send message to 0: ACK    \n",
    "[INFO   ] Client 0: Received message from 1: ACK  \n",
    "[INFO   ] Client 1: Send message to 2: Hello World!    \n",
    "[WARNING]   Router: Dropped packet from 1 to 2: Hello World!  \n",
    "[INFO   ] Client 2: Send message to 1: Hello World!  \n",
    "[WARNING]   Router: Dropped packet from 2 to 1: Hello World!  \n",
    "[WARNING] Client 1: Did not receive ACK. Resending...  \n",
    "[INFO   ] Client 1: Send message to 2: Hello World!  \n",
    "[INFO   ] Client 2: Received message from 1: Hello World!  \n",
    "[INFO   ] Client 2: Send message to 1: ACK  \n",
    "[INFO   ] Client 1: Received message from 2: ACK  \n",
    "[WARNING] Client 2: Did not receive ACK. Resending...  \n",
    "[INFO   ] Client 2: Send message to 1: Hello World!  \n",
    "[WARNING]   Router: Dropped packet from 2 to 1: Hello World!  \n",
    "[WARNING] Client 2: Did not receive ACK. Resending...  \n",
    "[INFO   ] Client 2: Send message to 1: Hello World!  \n",
    "[INFO   ] Client 1: Received message from 2: Hello World!  \n",
    "[INFO   ] Client 1: Send message to 2: ACK  \n",
    "[INFO   ] Client 2: Received message from 1: ACK  \n",
    "[INFO   ]     root: Simulation finished  "
   ]
  }
 ],
 "metadata": {
  "celltoolbar": "Slideshow",
  "kernelspec": {
   "display_name": "Python 3",
   "language": "python",
   "name": "python3"
  },
  "language_info": {
   "codemirror_mode": {
    "name": "ipython",
    "version": 3
   },
   "file_extension": ".py",
   "mimetype": "text/x-python",
   "name": "python",
   "nbconvert_exporter": "python",
   "pygments_lexer": "ipython3",
   "version": "3.6.9"
  },
  "rise": {
   "scroll": true
  }
 },
 "nbformat": 4,
 "nbformat_minor": 4
}
