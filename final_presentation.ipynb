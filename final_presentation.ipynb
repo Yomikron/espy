{
 "cells": [
  {
   "cell_type": "markdown",
   "metadata": {
    "slideshow": {
     "slide_type": "slide"
    }
   },
   "source": [
    "# espy"
   ]
  },
  {
   "cell_type": "markdown",
   "metadata": {
    "slideshow": {
     "slide_type": "slide"
    }
   },
   "source": [
    "# recap: our goals\n",
    "\n",
    " - Simulate bit transmission on physical layer\n",
    " - Implement and understand FEC algorithms and CRC\n",
    " - Compare algorithms and combinations under different channel models"
   ]
  },
  {
   "cell_type": "markdown",
   "metadata": {
    "slideshow": {
     "slide_type": "slide"
    }
   },
   "source": [
    "## results\n",
    "\n",
    "- simulation using simpy (sender, channel, receiver)\n",
    "- algorithms: CRC, hamming codes, convolution codes\n",
    "- data analysis using pyplotlib"
   ]
  },
  {
   "cell_type": "markdown",
   "metadata": {
    "slideshow": {
     "slide_type": "slide"
    }
   },
   "source": [
    "```\n",
    "espy/\n",
    "├── algorithms\n",
    "│   ├── block_code.py\n",
    "│   ├── cc_viterbi.py\n",
    "│   ├── channel_noise_simulator.py\n",
    "│   ├── crc.py\n",
    "│   └── noise_distribution_comparison.py\n",
    "├── app.py\n",
    "├── evaluation\n",
    "│   ├── charts.py\n",
    "│   └── utils.py\n",
    "├── setups\n",
    "│   ├── simulation_burst_error_crc.py\n",
    "│   ├── simulation_burst_error.py\n",
    "│   ├── simulation_burst_error_viterbi.py\n",
    "│   ├── simulation_simple_error_crc.py\n",
    "│   └── simulation_simple_error_viterbi.py\n",
    "├── simulation\n",
    "│   ├── channel.py\n",
    "│   ├── error_setup.py\n",
    "│   ├── packet.py\n",
    "│   ├── receiver.py\n",
    "│   ├── sender.py\n",
    "│   └── simulator.py\n",
    "└── test\n",
    "    ├── test_block_code.py\n",
    "    ├── testChannelNoise.py\n",
    "    └── test_crc.py\n",
    "```"
   ]
  },
  {
   "cell_type": "markdown",
   "metadata": {
    "slideshow": {
     "slide_type": "slide"
    }
   },
   "source": [
    "## Our setup\n",
    "\n"
   ]
  },
  {
   "cell_type": "markdown",
   "metadata": {
    "slideshow": {
     "slide_type": "fragment"
    }
   },
   "source": [
    "## What we learned \n",
    "\n",
    "- discrete-event simulation\n",
    "- numpy only would have been a better choice"
   ]
  },
  {
   "cell_type": "markdown",
   "metadata": {},
   "source": [
    "## Convolutional Codes\n"
   ]
  },
  {
   "cell_type": "markdown",
   "metadata": {},
   "source": [
    "### State machine for encoding/decoding with rate 1/2 (polynomials 111 and 101)\n",
    "\n",
    "![](rate_05_state_machine.png)"
   ]
  },
  {
   "cell_type": "markdown",
   "metadata": {},
   "source": [
    "![](viterbi_05_n500.png)"
   ]
  },
  {
   "cell_type": "markdown",
   "metadata": {},
   "source": [
    "![](viterbi_025_n500.png)"
   ]
  },
  {
   "cell_type": "markdown",
   "metadata": {
    "slideshow": {
     "slide_type": "slide"
    }
   },
   "source": [
    "## CRC algorithm\n",
    "\n",
    "- CRC8 -> 8 redundancy bits\n",
    "- running 2000 simulations with 1000 messages each\n",
    "- binary symmetric channel\n",
    "- change BER and packet size \n",
    "\n",
    "\n"
   ]
  },
  {
   "cell_type": "markdown",
   "metadata": {
    "slideshow": {
     "slide_type": "slide"
    }
   },
   "source": [
    "### CRC evaluates to true \n",
    "![](ber_packet_size_crc_n1000.png)"
   ]
  },
  {
   "cell_type": "markdown",
   "metadata": {
    "slideshow": {
     "slide_type": "slide"
    }
   },
   "source": [
    "### False negatives\n",
    "\n",
    "![](ber_packet_size_crc_n1000_false_negatives.png)\n"
   ]
  },
  {
   "cell_type": "markdown",
   "metadata": {},
   "source": [
    "### False positives\n",
    "\n",
    "![](ber_packet_size_crc_n1000_false_positives.png)"
   ]
  },
  {
   "cell_type": "code",
   "execution_count": null,
   "metadata": {},
   "outputs": [],
   "source": []
  }
 ],
 "metadata": {
  "celltoolbar": "Slideshow",
  "kernelspec": {
   "display_name": "Python 3",
   "language": "python",
   "name": "python3"
  },
  "language_info": {
   "codemirror_mode": {
    "name": "ipython",
    "version": 2
   },
   "file_extension": ".py",
   "mimetype": "text/x-python",
   "name": "python",
   "nbconvert_exporter": "python",
   "pygments_lexer": "ipython2",
   "version": "2.7.17"
  }
 },
 "nbformat": 4,
 "nbformat_minor": 2
}
