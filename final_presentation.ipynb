{
 "cells": [
  {
   "cell_type": "markdown",
   "metadata": {
    "slideshow": {
     "slide_type": "slide"
    }
   },
   "source": [
    "# espy"
   ]
  },
  {
   "cell_type": "markdown",
   "metadata": {
    "slideshow": {
     "slide_type": "slide"
    }
   },
   "source": [
    "## Recap: our goals\n",
    "\n",
    " - Simulate bit transmission on physical layer\n",
    " - Implement and understand FEC algorithms and CRC\n",
    " - Compare algorithms and combinations under different channel models"
   ]
  },
  {
   "cell_type": "markdown",
   "metadata": {
    "slideshow": {
     "slide_type": "slide"
    }
   },
   "source": [
    "## About espy\n",
    "\n",
    "```\n",
    "espy/\n",
    "├── algorithms\n",
    "├── app.py\n",
    "├── evaluation\n",
    "├── setups\n",
    "├── simulation\n",
    "└── test\n",
    "```"
   ]
  },
  {
   "cell_type": "markdown",
   "metadata": {
    "slideshow": {
     "slide_type": "slide"
    }
   },
   "source": [
    "## The simulation setup\n",
    "\n",
    "1. message generation (_Sender_)\n",
    "2. add CRC to message (_Sender_)\n",
    "3. add FEC to message (_Sender_)\n",
    "4. apply channel model (_Channel_)\n",
    "5. evaluate FEC (_Receiver_)\n",
    "6. evaluate CRC (_Receiver_)"
   ]
  },
  {
   "cell_type": "markdown",
   "metadata": {
    "slideshow": {
     "slide_type": "slide"
    }
   },
   "source": [
    "## Evaluation\n",
    "\n",
    "- store information about payload, fec, crc and the changes applied by the channel\n",
    "- evaluate these information\n",
    "- summarize simulation results and store transcripts to json\n",
    "- use pyplotlib to viusalize the results"
   ]
  },
  {
   "cell_type": "markdown",
   "metadata": {
    "slideshow": {
     "slide_type": "slide"
    }
   },
   "source": [
    "## Convolutional Codes\n"
   ]
  },
  {
   "cell_type": "markdown",
   "metadata": {
    "slideshow": {
     "slide_type": "slide"
    }
   },
   "source": [
    "### State machine for encoding/decoding with rate 1/2 (polynomials 111 and 101)\n",
    "\n",
    "![](rate_05_state_machine.png)"
   ]
  },
  {
   "cell_type": "markdown",
   "metadata": {
    "slideshow": {
     "slide_type": "slide"
    }
   },
   "source": [
    "![](viterbi_05_n500.png)"
   ]
  },
  {
   "cell_type": "markdown",
   "metadata": {
    "slideshow": {
     "slide_type": "slide"
    }
   },
   "source": [
    "![](viterbi_025_n500.png)"
   ]
  },
  {
   "cell_type": "markdown",
   "metadata": {
    "slideshow": {
     "slide_type": "slide"
    }
   },
   "source": [
    "## CRC algorithm\n",
    "\n",
    "- CRC8 -> 8 redundancy bits\n",
    "- running 2000 simulations with 1000 messages each\n",
    "- binary symmetric channel\n",
    "- change BER and packet size \n",
    "\n",
    "\n"
   ]
  },
  {
   "cell_type": "markdown",
   "metadata": {
    "slideshow": {
     "slide_type": "slide"
    }
   },
   "source": [
    "### CRC evaluates to true \n",
    "\n",
    "![](ber_packet_size_crc_n1000.png)"
   ]
  },
  {
   "cell_type": "markdown",
   "metadata": {
    "slideshow": {
     "slide_type": "slide"
    }
   },
   "source": [
    "### False negatives\n",
    "\n",
    "![](ber_packet_size_crc_n1000_false_negatives.png)\n"
   ]
  },
  {
   "cell_type": "markdown",
   "metadata": {
    "slideshow": {
     "slide_type": "slide"
    }
   },
   "source": [
    "### False positives\n",
    "\n",
    "![](ber_packet_size_crc_n1000_false_positives.png)"
   ]
  },
  {
   "cell_type": "markdown",
   "metadata": {
    "slideshow": {
     "slide_type": "slide"
    }
   },
   "source": [
    "## How would we go on?\n",
    "\n",
    "- more possible simulations\n",
    "- replace simpy by numpy\n",
    "- store meta-information with simulation results\n",
    "- compare simulation results in one plot"
   ]
  },
  {
   "cell_type": "markdown",
   "metadata": {
    "slideshow": {
     "slide_type": "slide"
    }
   },
   "source": [
    "## What we learned \n",
    "\n",
    "- discrete-event simulation\n",
    "- numpy only would have been a better choice\n",
    "- spend more time on architecture and interfaces\n",
    "- it is hard to guess the time needed for certain features\n",
    "- automated tests are important\n",
    "- our algorithms are way to slow for the requirements of the physical layer"
   ]
  }
 ],
 "metadata": {
  "celltoolbar": "Slideshow",
  "kernelspec": {
   "display_name": "Python 3",
   "language": "python",
   "name": "python3"
  },
  "language_info": {
   "codemirror_mode": {
    "name": "ipython",
    "version": 2
   },
   "file_extension": ".py",
   "mimetype": "text/x-python",
   "name": "python",
   "nbconvert_exporter": "python",
   "pygments_lexer": "ipython2",
   "version": "2.7.17"
  }
 },
 "nbformat": 4,
 "nbformat_minor": 2
}
